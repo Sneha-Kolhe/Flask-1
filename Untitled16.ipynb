{
 "cells": [
  {
   "cell_type": "markdown",
   "id": "29c6ff02-0e76-4aa2-9cd8-6ba2e8eb2013",
   "metadata": {},
   "source": [
    "## Q1. What is Flask Framework? What are the advantages of Flask Framework?"
   ]
  },
  {
   "cell_type": "code",
   "execution_count": null,
   "id": "c4749d24-96d9-493f-9fe9-6407ff1c91d3",
   "metadata": {},
   "outputs": [],
   "source": [
    "Flask is a micro web framework for Python, designed to be lightweight, flexible, and easy to use. It provides tools and libraries for building web applications quickly and efficiently. Flask is known for its simplicity and minimalism, allowing developers to focus on writing clean and concise code without imposing unnecessary restrictions or dependencies.\n",
    "\n",
    "Key features of Flask include:\n",
    "\n",
    "Minimalistic Design: Flask follows a minimalistic design philosophy, providing only the essential components needed for web development. This simplicity makes it easy to learn and use, especially for beginners or developers looking for a lightweight framework.\n",
    "\n",
    "Extensibility: Despite its minimalist design, Flask is highly extensible. It allows developers to add additional functionality through various Flask extensions and third-party libraries. These extensions cover a wide range of features, including authentication, database integration, form handling, and more.\n",
    "\n",
    "Jinja2 Templating: Flask uses the Jinja2 templating engine, which provides a powerful and flexible way to generate dynamic content in web applications. Jinja2 templates support inheritance, macros, filters, and other features, making it easy to create reusable and maintainable HTML templates.\n",
    "\n",
    "Werkzeug WSGI Toolkit: Flask is built on top of the Werkzeug WSGI (Web Server Gateway Interface) toolkit, which provides low-level utilities for handling HTTP requests and responses. This gives Flask a solid foundation for building web applications and handling the intricacies of web development.\n",
    "\n",
    "Built-in Development Server: Flask comes with a built-in development server that makes it easy to test and debug web applications locally. The development server supports automatic code reloading, allowing developers to see changes in real-time without restarting the server.\n",
    "\n",
    "RESTful Support: Flask has built-in support for creating RESTful APIs (Application Programming Interfaces). It provides tools and conventions for implementing RESTful routes, handling request methods, and serializing/deserializing data, making it easy to build web services and APIs.\n",
    "\n",
    "Community and Documentation: Flask has a vibrant community of developers and enthusiasts who contribute plugins, extensions, tutorials, and other resources to help users get started and solve common problems. The Flask documentation is comprehensive and well-maintained, making it easy to find answers to questions and learn about the framework's features.\n",
    "\n",
    "Advantages of using Flask Framework:\n",
    "\n",
    "Simplicity: Flask's minimalist design makes it easy to learn and use, especially for beginners or developers who prefer lightweight frameworks.\n",
    "\n",
    "Flexibility: Flask allows developers to choose their own tools and libraries for different components of their web applications, providing flexibility and freedom in the development process.\n",
    "\n",
    "Extensibility: Flask's modular architecture and support for extensions make it highly extensible, allowing developers to add additional functionality as needed.\n",
    "\n",
    "Performance: Flask's lightweight design and efficient request handling make it well-suited for building high-performance web applications, especially those with low to moderate traffic loads.\n",
    "\n",
    "Community and Ecosystem: Flask has a large and active community of developers who contribute plugins, extensions, and other resources to enhance the framework's functionality and support its users."
   ]
  },
  {
   "cell_type": "markdown",
   "id": "d449921e-a2f7-4ec2-b415-5f0dde855cfb",
   "metadata": {},
   "source": [
    "## Q2. Create a simple Flask application to display ‘Hello World!!’. Attach the screenshot of the output in\n",
    "Jupyter Notebook."
   ]
  },
  {
   "cell_type": "code",
   "execution_count": null,
   "id": "08f7c1be-9a89-4bc1-8236-932c6cb442df",
   "metadata": {},
   "outputs": [],
   "source": [
    "from flask import Flask\n",
    "\n",
    "app = Flask(__name__)\n",
    "\n",
    "@app.route('/')\n",
    "def hello():\n",
    "    return 'Hello World!!'\n",
    "\n",
    "if __name__ == '__main__':\n",
    "    app.run(debug=True)\n",
    "Save this code in a Python file, for example, app.py. Then, navigate to the directory where you saved the file using your terminal or command prompt, and run the following command to start the Flask development server:\n",
    "\n",
    "python app.py"
   ]
  },
  {
   "cell_type": "markdown",
   "id": "2bd4b0ae-3ec9-4135-817c-6847a978577c",
   "metadata": {},
   "source": [
    "## Q3. What is App routing in Flask? Why do we use app routes?"
   ]
  },
  {
   "cell_type": "code",
   "execution_count": null,
   "id": "17a6a622-6bb2-494f-80a0-38c51081cebc",
   "metadata": {},
   "outputs": [],
   "source": [
    "from flask import Flask\n",
    "\n",
    "app = Flask(__name__)\n",
    "\n",
    "@app.route('/')\n",
    "def index():\n",
    "    return 'Welcome to the homepage!'\n",
    "\n",
    "@app.route('/about')\n",
    "def about():\n",
    "    return 'About Us page'\n",
    "\n",
    "if __name__ == '__main__':\n",
    "    app.run(debug=True)"
   ]
  },
  {
   "cell_type": "markdown",
   "id": "b5c477d7-b1dd-4ce3-8e04-03f79fadfc5d",
   "metadata": {},
   "source": [
    "## Q4. Create a “/welcome” route to display the welcome message “Welcome to ABC Corporation” and a “/”\n",
    "route to show the following details:\n",
    "Company Name: ABC Corporation\n",
    "Location: India\n",
    "Contact Detail: 999-999-9999"
   ]
  },
  {
   "cell_type": "code",
   "execution_count": null,
   "id": "5523baa0-e927-4e54-a99e-63e3cefff8b7",
   "metadata": {},
   "outputs": [],
   "source": [
    "from flask import Flask\n",
    "\n",
    "app = Flask(__name__)\n",
    "\n",
    "@app.route('/')\n",
    "def home():\n",
    "    return \"\"\"\n",
    "    <h1>Company Name: ABC Corporation</h1>\n",
    "    <h2>Location: India</h2>\n",
    "    <h3>Contact Detail: 999-999-9999</h3>\n",
    "    \"\"\"\n",
    "\n",
    "@app.route('/welcome')\n",
    "def welcome():\n",
    "    return \"<h1>Welcome to ABC Corporation</h1>\"\n",
    "\n",
    "if __name__ == '__main__':\n",
    "    app.run(debug=True)\n",
    "In this code:\n",
    "\n",
    "The / route is associated with the home() function. When a user visits the root URL (http://localhost:5000/), Flask will invoke the home() function, which returns an HTML string containing the details of the company.\n",
    "\n",
    "The /welcome route is associated with the welcome() function. When a user visits the /welcome URL (http://localhost:5000/welcome), Flask will invoke the welcome() function, which returns an HTML string displaying the welcome message."
   ]
  },
  {
   "cell_type": "markdown",
   "id": "75338215-de14-4553-8d18-b208ffd6712f",
   "metadata": {},
   "source": [
    "## Q5. What function is used in Flask for URL Building? Write a Python code to demonstrate the working of the\n",
    "url_for() function."
   ]
  },
  {
   "cell_type": "code",
   "execution_count": null,
   "id": "af453bb3-c8e1-4271-993d-bc590f9b1f0d",
   "metadata": {},
   "outputs": [],
   "source": [
    "from flask import Flask, url_for\n",
    "\n",
    "app = Flask(__name__)\n",
    "\n",
    "@app.route('/')\n",
    "def index():\n",
    "    # Generates a URL for the 'welcome' endpoint\n",
    "    welcome_url = url_for('welcome')\n",
    "    return f'Visit the welcome page: <a href=\"{welcome_url}\">{welcome_url}</a>'\n",
    "\n",
    "@app.route('/welcome')\n",
    "def welcome():\n",
    "    return 'Welcome to ABC Corporation'\n",
    "\n",
    "if __name__ == '__main__':\n",
    "    app.run(debug=True)\n",
    "In this code:\n",
    "\n",
    "The / route is associated with the index() function. When a user visits the root URL (http://localhost:5000/), Flask will invoke the index() function, which generates a URL for the welcome endpoint using the url_for() function and returns a message containing a link to the welcome page.\n",
    "\n",
    "The /welcome route is associated with the welcome() function. When a user visits the /welcome URL (http://localhost:5000/welcome), Flask will invoke the welcome() function, which simply returns the message \"Welcome to ABC Corporation\".\n",
    "\n",
    "When you run this Flask application and visit the root URL in your web browser, you'll see a message containing a link to the welcome page. Clicking on this link will take you to the welcome page, demonstrating the working of the url_for() function."
   ]
  }
 ],
 "metadata": {
  "kernelspec": {
   "display_name": "Python 3 (ipykernel)",
   "language": "python",
   "name": "python3"
  },
  "language_info": {
   "codemirror_mode": {
    "name": "ipython",
    "version": 3
   },
   "file_extension": ".py",
   "mimetype": "text/x-python",
   "name": "python",
   "nbconvert_exporter": "python",
   "pygments_lexer": "ipython3",
   "version": "3.10.8"
  }
 },
 "nbformat": 4,
 "nbformat_minor": 5
}
